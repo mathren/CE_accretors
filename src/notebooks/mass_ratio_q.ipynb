{
 "cells": [
  {
   "cell_type": "markdown",
   "id": "24fcfb66",
   "metadata": {},
   "source": [
    "# Compare runs with different mass ratios q=M2/M1\n",
    "author: [Mathieu Renzo](mailto:mrenzo@flatironinstitute.org)"
   ]
  },
  {
   "cell_type": "code",
   "execution_count": null,
   "id": "2291deaf",
   "metadata": {},
   "outputs": [],
   "source": [
    "import sys\n",
    "# go fetch libraries\n",
    "sys.path.append(\"../figures/utils/\")\n",
    "from MESAreader import getSrcCol, read_MESA_header, Rsun_cm\n",
    "sys.path.append(\"/mnt/home/mrenzo/codes/python_stuff/plotFunc/\")\n",
    "from plot_defaults import *\n",
    "import glob\n",
    "from scipy.interpolate import interp1d\n",
    "import numpy as np\n",
    "from lib_plot_bin import get_masses, annotate_radii_hrd, plot_HRD# plot_BE_r, plot_BE_m, interpolate_BE_env, get_ax_from_pfile, plot_surface_abundances\n",
    "%reload_ext autoreload\n",
    "%autoreload 2"
   ]
  },
  {
   "cell_type": "code",
   "execution_count": null,
   "id": "578233d2",
   "metadata": {},
   "outputs": [],
   "source": [
    "set_plot_defaults_from_matplotlibrc(\"../figures/\")"
   ]
  },
  {
   "cell_type": "code",
   "execution_count": null,
   "id": "13affd6c",
   "metadata": {},
   "outputs": [],
   "source": [
    "root = \"/mnt/home/mrenzo/ceph/RUNS/accretors/mesa15140/binaries/more_qzams/Z_0.0019/\"\n",
    "folders = glob.glob(root+\"/*/\")"
   ]
  },
  {
   "cell_type": "code",
   "execution_count": null,
   "id": "2fdd510a",
   "metadata": {},
   "outputs": [],
   "source": [
    "folders = [f for f in folders if \"38\" in f]\n",
    "\n",
    "fig = plt.figure()\n",
    "gs = gridspec.GridSpec(100, 100)\n",
    "ax = fig.add_subplot(gs[:, :])\n",
    "\n",
    "prop_cycle = plt.rcParams['axes.prop_cycle']\n",
    "colors = prop_cycle.by_key()['color']\n",
    "print(len(colors), len(folders))\n",
    "\n",
    "for f in folders:\n",
    "    m1, m2 = get_masses(f)\n",
    "    q = round(m2/m1,1)\n",
    "    c = colors[folders.index(f)]\n",
    "    # print(m1, m2, q)\n",
    "    if m1 == 38:\n",
    "        plot_HRD(f+'LOGS2/history.data', ax, ls='-', c=c, label=f\"q={q:.1f}\")\n",
    "        plot_HRD(f+'LOGS1/history.data', ax, ls='--', lw=2, c=c)\n",
    "\n",
    "\n",
    "annotate_radii_hrd(ax, [100, 200, 300, 500, 1000])\n",
    "ax.set_xlim(xmin=3.6)\n",
    "ax.invert_xaxis()\n",
    "ax.plot(np.nan, np.nan, c=\"k\", ls='--', lw=2, label=\"donor\")\n",
    "ax.plot(np.nan, np.nan, c=\"k\", label=\"accretor\")\n",
    "ax.legend()\n",
    "# bx.invert_xaxis()\n",
    "ax.set_xlabel(r\"$\\log_{10}(T_\\mathrm{eff}/[\\mathrm{K}])$\")\n",
    "ax.set_ylabel(r\"$\\log_{10}(L/L_\\odot)$\")\n"
   ]
  }
 ],
 "metadata": {
  "kernelspec": {
   "argv": [
    "/mnt/home/mrenzo/anaconda3/envs/CE_accretors/bin/python",
    "-m",
    "ipykernel_launcher",
    "-f",
    "{connection_file}"
   ],
   "display_name": "Python 3 (ipykernel)",
   "env": null,
   "interrupt_mode": "signal",
   "language": "python",
   "metadata": {
    "debugger": true
   },
   "name": "python3"
  },
  "name": "mass_ratio_q.ipynb"
 },
 "nbformat": 4,
 "nbformat_minor": 5
}
