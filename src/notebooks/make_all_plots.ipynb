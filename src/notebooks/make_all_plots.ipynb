{
 "cells": [
  {
   "cell_type": "markdown",
   "id": "55643d78",
   "metadata": {},
   "source": [
    "# Convenience notebook to remake all the plots\n",
    "author: [Mathieu Renzo](mrenzo@flatironinstitute.org)"
   ]
  },
  {
   "cell_type": "code",
   "execution_count": null,
   "id": "542098c8",
   "metadata": {},
   "outputs": [],
   "source": [
    "import sys\n",
    "# go fetch libraries\n",
    "sys.path.append(\"../figures/utils/\")\n",
    "sys.path.append(\"/mnt/home/mrenzo/codes/python_stuff/plotFunc/\")\n",
    "from plot_defaults import *\n",
    "%load_ext autoreload\n",
    "%autoreload 2"
   ]
  },
  {
   "cell_type": "code",
   "execution_count": null,
   "id": "f0f2b0c0",
   "metadata": {},
   "outputs": [],
   "source": [
    "set_plot_defaults_from_matplotlibrc(\"../figures/\")"
   ]
  },
  {
   "cell_type": "code",
   "execution_count": null,
   "id": "c35651b5",
   "metadata": {},
   "outputs": [],
   "source": [
    "%run ../figures/engineered_TAMS.py"
   ]
  },
  {
   "cell_type": "code",
   "execution_count": null,
   "id": "de8f491d",
   "metadata": {},
   "outputs": [],
   "source": [
    "%run ../figures/toy_models_example.py"
   ]
  },
  {
   "cell_type": "code",
   "execution_count": null,
   "id": "24b53c38",
   "metadata": {},
   "outputs": [],
   "source": [
    "%run ../figures/rotation_models_example.py"
   ]
  },
  {
   "cell_type": "code",
   "execution_count": null,
   "id": "659ade6d",
   "metadata": {},
   "outputs": [],
   "source": [
    "%run ../figures/HRD.py"
   ]
  },
  {
   "cell_type": "code",
   "execution_count": null,
   "id": "53ee3176",
   "metadata": {},
   "outputs": [],
   "source": [
    "%run ../figures/TAMS_profiles.py"
   ]
  },
  {
   "cell_type": "code",
   "execution_count": null,
   "id": "f1667f70",
   "metadata": {},
   "outputs": [],
   "source": [
    "%run ../figures/TAMS_profiles_same_initial_mass.py"
   ]
  },
  {
   "cell_type": "code",
   "execution_count": null,
   "id": "b3189294",
   "metadata": {},
   "outputs": [],
   "source": [
    "%run ../figures/BE_profiles.py"
   ]
  },
  {
   "cell_type": "code",
   "execution_count": null,
   "id": "7f78d1f8",
   "metadata": {},
   "outputs": [],
   "source": [
    "%run ../figures/grid_ratios.py"
   ]
  },
  {
   "cell_type": "code",
   "execution_count": null,
   "id": "4a6b2308",
   "metadata": {},
   "outputs": [],
   "source": [
    "%run ../figures/BE_env_R.py"
   ]
  },
  {
   "cell_type": "code",
   "execution_count": null,
   "id": "94ed4dbe",
   "metadata": {},
   "outputs": [],
   "source": [
    "%run ../figures/lambda_grid.py"
   ]
  }
 ],
 "metadata": {
  "kernelspec": {
   "display_name": "Python 3 (ipykernel)",
   "language": "python",
   "name": "python3"
  },
  "language_info": {
   "codemirror_mode": {
    "name": "ipython",
    "version": 3
   },
   "file_extension": ".py",
   "mimetype": "text/x-python",
   "name": "python",
   "nbconvert_exporter": "python",
   "pygments_lexer": "ipython3",
   "version": "3.9.7"
  },
  "name": "make_all_plots.ipynb"
 },
 "nbformat": 4,
 "nbformat_minor": 5
}
