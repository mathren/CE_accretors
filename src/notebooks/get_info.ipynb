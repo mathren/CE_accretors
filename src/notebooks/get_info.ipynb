{
 "cells": [
  {
   "cell_type": "code",
   "execution_count": null,
   "id": "9e3031e5",
   "metadata": {},
   "outputs": [],
   "source": [
    "# Get quick info from models"
   ]
  },
  {
   "cell_type": "code",
   "execution_count": null,
   "id": "e9a82bcc",
   "metadata": {},
   "outputs": [],
   "source": [
    "import sys\n",
    "# go fetch libraries\n",
    "sys.path.append(\"../figures/utils/\")\n",
    "sys.path.append(\"/mnt/home/mrenzo/codes/python_stuff/plotFunc/\")\n",
    "from plot_defaults import *\n",
    "%load_ext autoreload\n",
    "%autoreload 2"
   ]
  },
  {
   "cell_type": "code",
   "execution_count": null,
   "id": "815b6315",
   "metadata": {},
   "outputs": [],
   "source": [
    "init_model = \"/mnt/home/mrenzo/ceph/RUNS/accretors/mesa15140/engineered_stars/TAMS_models/30_rot0_to_TAMS/LOGS/TAMS.data\""
   ]
  },
  {
   "cell_type": "code",
   "execution_count": null,
   "id": "033935ef",
   "metadata": {},
   "outputs": [],
   "source": [
    "from lib_engineered import get_M_boundary\n"
   ]
  },
  {
   "cell_type": "code",
   "execution_count": null,
   "id": "e7b4bb4e",
   "metadata": {},
   "outputs": [],
   "source": [
    "delta_M_bound, M_bound_min, M_bound_max = get_M_boundary(init_model, offset=0.05)"
   ]
  },
  {
   "cell_type": "code",
   "execution_count": null,
   "id": "dad2ec3b",
   "metadata": {},
   "outputs": [],
   "source": [
    "print(delta_M_bound)"
   ]
  },
  {
   "cell_type": "code",
   "execution_count": null,
   "id": "3c92ed0d",
   "metadata": {},
   "outputs": [],
   "source": []
  }
 ],
 "metadata": {
  "kernelspec": {
   "display_name": "Python 3 (ipykernel)",
   "language": "python",
   "name": "python3"
  },
  "language_info": {
   "codemirror_mode": {
    "name": "ipython",
    "version": 3
   },
   "file_extension": ".py",
   "mimetype": "text/x-python",
   "name": "python",
   "nbconvert_exporter": "python",
   "pygments_lexer": "ipython3",
   "version": "3.9.7"
  },
  "name": "Untitled.ipynb"
 },
 "nbformat": 4,
 "nbformat_minor": 5
}
