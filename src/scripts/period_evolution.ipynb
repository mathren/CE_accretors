{
 "cells": [
  {
   "cell_type": "markdown",
   "id": "8540b444-b988-442e-8033-fb2d8eeaece2",
   "metadata": {},
   "source": [
    "# Period evolution binaries\n",
    "author: M. Renzo"
   ]
  },
  {
   "cell_type": "code",
   "execution_count": null,
   "id": "4f33870c-b09b-4e71-afba-c81f13508354",
   "metadata": {},
   "outputs": [],
   "source": [
    "from MESAreader import getSrcCol\n",
    "import numpy as np\n",
    "import matplotlib.pyplot as plt\n",
    "import matplotlib.gridspec as gridspec\n",
    "import glob\n",
    "import warnings\n",
    "import paths\n"
   ]
  },
  {
   "cell_type": "code",
   "execution_count": null,
   "id": "8443547a-ba69-480d-bc45-fef9aa6d014f",
   "metadata": {},
   "outputs": [],
   "source": [
    "root = paths.data / \"MESA_output/\"\n",
    "root_accretors = root / \"binaries/Z_0.0019/\"\n",
    "\n",
    "b1 = (\n",
    "    str(root_accretors)\n",
    "    + \"/m1_18.0000_m2_15.0000_initial_z_0.0019_initial_period_in_days_1.0000e+02_grid_index_0_1/LOGS2/\"\n",
    ")\n",
    "b2 = (\n",
    "    str(root_accretors)\n",
    "    + \"/m1_20.0000_m2_17.0000_initial_z_0.0019_initial_period_in_days_1.0000e+02_grid_index_0_1/LOGS2/\"\n",
    ")\n",
    "b3 = (\n",
    "    str(root_accretors)\n",
    "    + \"/m1_38.0000_m2_30.0000_initial_z_0.0019_initial_period_in_days_1.0000e+02_grid_index_0_1/LOGS2/\"\n",
    ")\n"
   ]
  },
  {
   "cell_type": "code",
   "execution_count": null,
   "id": "965e754a-c606-4da8-b778-9e784fc4e7fd",
   "metadata": {},
   "outputs": [],
   "source": [
    "# from joblib import delayed, Parallel\n",
    "\n",
    "\n",
    "# plot_a_age(b2+'/../binary_history.data')\n",
    "# plot_a_age(b3+'/../binary_history.data')"
   ]
  },
  {
   "cell_type": "code",
   "execution_count": null,
   "id": "d3b0a473-0d33-4756-a80e-a6ec6d2182eb",
   "metadata": {},
   "outputs": [],
   "source": [
    "def plot_a_age(hfile_bin, ax, **plot_kwargs):\n",
    "    src, col = getSrcCol(hfile_bin)\n",
    "    i_point_mass = src[:,col.index(\"point_mass_index\")]\n",
    "    ind = (i_point_mass == 0)\n",
    "    t = src[ind, col.index(\"age\")]*1e-6\n",
    "    a = src[ind, col.index(\"binary_separation\")]\n",
    "    ax.plot(t,a, **plot_kwargs)"
   ]
  },
  {
   "cell_type": "code",
   "execution_count": null,
   "id": "82662de0-c7ef-43df-90b6-d456817f2c49",
   "metadata": {},
   "outputs": [],
   "source": [
    "fig = plt.figure(figsize=(10,10))\n",
    "gs = gridspec.GridSpec(100, 100)\n",
    "ax = fig.add_subplot(gs[:, :])\n",
    "\n",
    "prop_cycle = plt.rcParams[\"axes.prop_cycle\"]\n",
    "colors = prop_cycle.by_key()[\"color\"]\n",
    "\n",
    "binaries = [b1, b2, b3]\n",
    "for b in binaries:\n",
    "    plot_a_age(b2+'/../binary_history.data', ax, c=colors[binaries.index(b)])\n",
    "\n",
    "# ax.invert_xaxis()\n",
    "ax.set_xlabel(r\"time [Myr]\")\n",
    "ax.set_ylabel(r\"separation $[R_\\odot]$\")\n",
    "# ax.set_yscale('log')"
   ]
  }
 ],
 "metadata": {
  "kernelspec": {
   "argv": [
    "/mnt/home/mrenzo/anaconda3/envs/py3/bin/python",
    "-m",
    "ipykernel_launcher",
    "-f",
    "{connection_file}"
   ],
   "display_name": "Python 3 (ipykernel)",
   "env": "nil",
   "interrupt_mode": "signal",
   "language": "python",
   "metadata": {
    "debugger": true
   },
   "name": "python3"
  },
  "name": "period evolution.ipynb"
 },
 "nbformat": 4,
 "nbformat_minor": 2
}
