{
 "cells": [
  {
   "cell_type": "markdown",
   "id": "d9dc0f6b-1ebc-4b21-8a25-868ae8f79401",
   "metadata": {},
   "source": [
    "# When do accretors spin down (w.r.t. He core burning)\n",
    "author: [Mathieu Renzo](mailto:mrenzo@flatironinstitute.org)\n",
    "\n",
    "$\\omega$ and $J_\\mathrm{tot}$ profiles and evolution"
   ]
  },
  {
   "cell_type": "code",
   "execution_count": null,
   "id": "e47ae518-ea58-4789-a581-daa679018d07",
   "metadata": {},
   "outputs": [],
   "source": [
    "from MESAreader import getSrcCol, read_MESA_header\n",
    "import numpy as np\n",
    "import matplotlib.pyplot as plt\n",
    "import matplotlib.gridspec as gridspec\n",
    "import glob\n",
    "import warnings\n",
    "import paths\n"
   ]
  },
  {
   "cell_type": "code",
   "execution_count": null,
   "id": "64c09abb-c8d7-456e-9881-dd463bdfb70b",
   "metadata": {},
   "outputs": [],
   "source": [
    "root = \"/mnt/home/mrenzo/ceph/RUNS/accretors/mesa15140/\"\n",
    "root_rot = root + \"single_stars/Z_0.0019/\"\n",
    "accretors_root = \"/mnt/home/mrenzo/ceph/RUNS/accretors/mesa15140/binaries/Z_0.0019/\"\n",
    "folders_accretors = sorted(glob.glob(accretors_root+'*/'))\n"
   ]
  },
  {
   "cell_type": "code",
   "execution_count": null,
   "id": "90cad887-5aa6-4ca3-a798-99e00092f481",
   "metadata": {},
   "outputs": [],
   "source": [
    "def plot_Jtot_time(hfile, ax, annotate = False,  **plot_kwargs):\n",
    "    src, col = getSrcCol(hfile)\n",
    "    Jtot = src[:, col.index(\"log_total_angular_momentum\")]\n",
    "    t = src[:, col.index(\"star_age\")]\n",
    "    tx = np.log10(t[-1]-t)\n",
    "    ax.plot(tx, Jtot, **plot_kwargs)\n",
    "    if annotate:\n",
    "        center_h1 = src[:, col.index(\"center_h1\")]\n",
    "        center_he4 = src[:, col.index(\"center_he4\")]\n",
    "        iTAMS = np.argmin(np.absolute(center_h1-1e-4))\n",
    "        iHedepl = np.argmin(np.absolute(center_he4-1e-4))\n",
    "        ax.axvline(tx[iTAMS], 0, 1, ls=\"--\", lw=2, zorder=0)\n",
    "        ax.axvline(tx[iHedepl], 0, 1, ls=\"--\", lw=2, zorder=0)\n"
   ]
  },
  {
   "cell_type": "code",
   "execution_count": null,
   "id": "4abf310a-ee5b-4b00-a397-fb01fc370c8b",
   "metadata": {},
   "outputs": [],
   "source": [
    "fig = plt.figure(figsize=(10,10))\n",
    "gs = gridspec.GridSpec(120, 150)\n",
    "ax = fig.add_subplot(gs[:, :])\n",
    "\n",
    "# accretors\n",
    "for f in folders_accretors:\n",
    "    # m1, m2 = get_masses(folders_accretors)\n",
    "    hfile = f+'/LOGS2/history.data'\n",
    "    src, col = getSrcCol(hfile)\n",
    "    m2 = src[0, col.index(\"star_mass\")]\n",
    "    plot_Jtot_time(hfile, ax, label=r\"$M_{2}=\"+f\"{m2:.0f}\"+\"$\", annotate=True)\n",
    "\n",
    "prop_cycle = plt.rcParams[\"axes.prop_cycle\"]\n",
    "colors = prop_cycle.by_key()[\"color\"]\n",
    "\n",
    "\n",
    "# single stars\n",
    "for f in glob.glob(root_rot+'*'):\n",
    "    if (\"0.5\" in f):\n",
    "        if (\"18\" in f):\n",
    "            c = colors[0]\n",
    "            hfile = f+\"/LOGS/history.data\"\n",
    "            plot_Jtot_time(hfile, ax, lw=1, c=c, label=r\"$\\mathrm{single} 18$\")\n",
    "        elif (\"20\" in f):\n",
    "            c = colors[1]\n",
    "            hfile = f+\"/LOGS/history.data\"\n",
    "            plot_Jtot_time(hfile, ax, lw=1, c=c, label=r\"$\\mathrm{single} 20$\")\n",
    "        elif (\"36\" in f):\n",
    "            c = colors[2]\n",
    "            hfile = f+\"/LOGS/history.data\"\n",
    "            plot_Jtot_time(hfile, ax, lw=1, c=c, label=r\"$\\mathrm{single} 36$\")\n",
    "        \n",
    "            \n",
    "            \n",
    "\n",
    "ax.legend()\n",
    "ax.invert_xaxis()\n",
    "ax.set_ylabel(r\"$\\log_{10}(J_\\mathrm{tot}/ \\mathrm{cgs\\ units})$\")\n",
    "ax.set_xlabel(r\"$\\log_{10}(t_\\mathrm{C\\ depl} - t) \\mathrm{[yr]}$\")"
   ]
  },
  {
   "cell_type": "markdown",
   "id": "470569a1-49b9-491a-afc9-abfb134d1af4",
   "metadata": {},
   "source": [
    "# Internal $\\omega$ profile"
   ]
  },
  {
   "cell_type": "code",
   "execution_count": null,
   "id": "690f1049-b941-4490-8fd6-423befef2ca7",
   "metadata": {},
   "outputs": [],
   "source": [
    "single18 = glob.glob(root_rot+'/18*/')\n",
    "single20 = glob.glob(root_rot+'/20*/')\n",
    "single36 = glob.glob(root_rot+'/36*/')"
   ]
  },
  {
   "cell_type": "code",
   "execution_count": null,
   "id": "de46c91d-9919-4483-b9fa-7dd8d1f0b894",
   "metadata": {},
   "outputs": [],
   "source": [
    "def get_initial_vrot(f):\n",
    "    src, col = getSrcCol(f+'/LOGS/history.data')\n",
    "    v_surf = src[0, col.index(\"surf_avg_v_rot\")]\n",
    "    return v_surf\n",
    "\n",
    "for f in single18+single20+single36:\n",
    "    print(f.split('/')[-2],get_initial_vrot(f))"
   ]
  },
  {
   "cell_type": "markdown",
   "id": "951c0b38-69b5-4af3-9dbb-83493fe3f027",
   "metadata": {},
   "source": [
    "$\\omega/\\omega_\\mathrm{crit}=0.4$ is the closest to\n",
    "$v_\\mathrm{surf}\\simeq300\\,\\mathrm{km\\ s^{-1}}$ used in [Limong & Chieffi 2018](https://ui.adsabs.harvard.edu/abs/2018ApJS..237...13L/abstract)"
   ]
  },
  {
   "cell_type": "code",
   "execution_count": null,
   "id": "f7439992-0ef1-410a-b8f6-384c040c1022",
   "metadata": {},
   "outputs": [],
   "source": [
    "def plot_omega_M(pfile, ax, **plot_kwargs):\n",
    "    src, col = getSrcCol(pfile)\n",
    "    omega = src[:, col.index(\"omega\")]\n",
    "    log_omega = np.log10(omega)\n",
    "    m = src[:, col.index(\"mass\")]\n",
    "    ax.plot(m, log_omega, **plot_kwargs)\n",
    "\n",
    "    "
   ]
  },
  {
   "cell_type": "code",
   "execution_count": null,
   "id": "ea3824e6-4847-4f49-97ba-d0bf445771ea",
   "metadata": {},
   "outputs": [],
   "source": [
    "def get_R(pfile):\n",
    "    src_header, col_header = read_MESA_header(pfile)\n",
    "    photosphere_r = float(src_header[col_header.index(\"photosphere_r\")])\n",
    "    return photosphere_r"
   ]
  },
  {
   "cell_type": "code",
   "execution_count": null,
   "id": "5b5277f4-0bc1-4c72-8dfe-2299efb238c4",
   "metadata": {},
   "outputs": [],
   "source": [
    "fig = plt.figure(figsize=(10,10))\n",
    "gs = gridspec.GridSpec(120, 150)\n",
    "ax0 = fig.add_subplot(gs[:40, :])\n",
    "ax1 = fig.add_subplot(gs[40:80, :])\n",
    "ax2 = fig.add_subplot(gs[80:, :])\n",
    "\n",
    "ax2.set_xlabel(r\"$M \\ [M_\\odot]$\")\n",
    "ax1.set_ylabel(r\"$\\log_{10}(\\omega/ \\mathrm{rad\\ s^{-1}})$\")\n",
    "ax1.set_xticklabels([])\n",
    "ax0.set_xticklabels([])\n",
    "axes = [ax0,ax1,ax2]\n",
    "\n",
    "colors = plt.cm.viridis(np.linspace(0, 1, 6))\n",
    "\n",
    "for f in folders_accretors:\n",
    "    ax = axes[folders_accretors.index(f)]\n",
    "    profiles = sorted(glob.glob(f+\"/LOGS2/*Rsun*.data\"), key=get_R)\n",
    "    for p in profiles:\n",
    "        photosphere_r = get_R(p)\n",
    "        if (round(photosphere_r, 0) == 20.): continue\n",
    "        if ax == ax0:\n",
    "            plot_omega_M(p, ax, c=colors[profiles.index(p)], label=f\"$R={photosphere_r:.0f}\\,R_\\odot$\")\n",
    "        else: # no legend\n",
    "            plot_omega_M(p, ax, c=colors[profiles.index(p)])\n",
    "\n",
    "# plot single stars\n",
    "p18_04 = sorted(glob.glob(root_rot+'/18_rot0.4/LOGS/*Rsun*.data'), key=get_R)\n",
    "for p in p18_04:\n",
    "    photosphere_r = get_R(p)\n",
    "    if (round(photosphere_r, 0) == 20.): continue\n",
    "    plot_omega_M(p, ax0, ls='--', c=colors[p18_04.index(p)])\n",
    "\n",
    "p20_04 = sorted(glob.glob(root_rot+'/20_rot0.4/LOGS/*Rsun*.data'), key=get_R)\n",
    "for p in p20_04:\n",
    "    photosphere_r = get_R(p)\n",
    "    if (round(photosphere_r, 0) == 20.): continue\n",
    "    plot_omega_M(p, ax1, ls='--', c=colors[p20_04.index(p)])\n",
    "\n",
    "\n",
    "\n",
    "ax0.legend(fontsize=25, frameon=True)\n",
    "ax1.set_xlim(ax2.get_xlim())\n",
    "ax0.set_xlim(ax2.get_xlim())\n",
    "\n",
    "ax1.plot(np.nan, np.nan, c='k', label=r\"accretor\")\n",
    "ax1.plot(np.nan, np.nan, ls='--', c='k', label=r\"$v_\\mathrm{surf}\\simeq 300\\,\\mathrm{km\\ s^{-1}}$\")\n",
    "ax1.legend(fontsize=25, frameon=True, loc=\"upper right\", handlelength=0.8, handletextpad=0.1)"
   ]
  },
  {
   "cell_type": "markdown",
   "id": "451e0467-74e5-4107-80e4-c9adc1172d6f",
   "metadata": {},
   "source": [
    "# Plot He profiles"
   ]
  },
  {
   "cell_type": "code",
   "execution_count": null,
   "id": "1627bda4-3119-4a71-9c65-093cb99f172a",
   "metadata": {},
   "outputs": [],
   "source": [
    "def plot_he(pfile, ax, **plot_kwargs):\n",
    "    src, col = getSrcCol(pfile)\n",
    "    he4 = src[:, col.index(\"he4\")]\n",
    "    m = src[:, col.index(\"mass\")]\n",
    "    ax.plot(m, he4, **plot_kwargs)"
   ]
  },
  {
   "cell_type": "code",
   "execution_count": null,
   "id": "64fbcc38-8aa1-40f6-bc3b-3678967049f1",
   "metadata": {},
   "outputs": [],
   "source": [
    "fig = plt.figure(figsize=(10,10))\n",
    "gs = gridspec.GridSpec(120, 150)\n",
    "ax0 = fig.add_subplot(gs[:40, :])\n",
    "ax1 = fig.add_subplot(gs[40:80, :])\n",
    "ax2 = fig.add_subplot(gs[80:, :])\n",
    "\n",
    "ax2.set_xlabel(r\"$M \\ [M_\\odot]$\")\n",
    "ax1.set_ylabel(r\"$\\log_{10}(\\omega/ \\mathrm{rad\\ s^{-1}})$\")\n",
    "ax1.set_xticklabels([])\n",
    "ax0.set_xticklabels([])\n",
    "axes = [ax0,ax1,ax2]\n",
    "\n",
    "for f in folders_accretors:\n",
    "    ax = axes[folders_accretors.index(f)]\n",
    "    profiles = sorted(glob.glob(f+\"/LOGS2/*Rsun*.data\"), key=get_R)\n",
    "    colors = plt.cm.viridis(np.linspace(0, 1, len(profiles)))\n",
    "    for p in profiles:\n",
    "        photosphere_r = get_R(p)\n",
    "        if (round(photosphere_r, 0) == 20.): continue\n",
    "        plot_he(p, ax, c=colors[profiles.index(p)], label=f\"$R={photosphere_r:.0f}$\")\n",
    "    \n",
    "\n",
    "ax0.legend(fontsize=25, frameon=True)\n",
    "\n",
    "ax1.set_xlim(ax2.get_xlim())\n",
    "ax0.set_xlim(ax2.get_xlim())\n",
    "\n"
   ]
  }
 ],
 "metadata": {
  "kernelspec": {
   "argv": [
    "/mnt/home/mrenzo/anaconda3/envs/CE_accretors/bin/python",
    "-m",
    "ipykernel_launcher",
    "-f",
    "{connection_file}"
   ],
   "display_name": "Python 3 (ipykernel)",
   "env": null,
   "interrupt_mode": "signal",
   "language": "python",
   "metadata": {
    "debugger": true
   },
   "name": "python3"
  },
  "name": "accretor_rot.ipynb"
 },
 "nbformat": 4,
 "nbformat_minor": 5
}
