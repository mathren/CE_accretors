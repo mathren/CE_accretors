{
 "cells": [
  {
   "cell_type": "markdown",
   "metadata": {
    "ein.tags": "worksheet-0",
    "slideshow": {
     "slide_type": "-"
    }
   },
   "source": [
    "# create initial conditions for  simplified models\n",
    "\n",
    "author: [Mathieu Renzo](mrenzo@flatironinstitute.org)\n",
    "\n",
    "Assumes the models are computed with `approx21_plus_cr56.net` which\n",
    "has the following isotopes\n",
    "\n",
    "     1   neut\n",
    "     2   h1\n",
    "     3   prot\n",
    "     4   he3\n",
    "     5   he4\n",
    "     6   c12\n",
    "     7   n14\n",
    "     8   o16\n",
    "     9   ne20\n",
    "    10   mg24\n",
    "    11   si28\n",
    "    12   s32\n",
    "    13   ar36\n",
    "    14   ca40\n",
    "    15   ti44\n",
    "    16   cr48\n",
    "    17   cr56\n",
    "    18   fe52\n",
    "    19   fe54\n",
    "    20   fe56\n",
    "    21   co56\n",
    "    22   ni56"
   ]
  },
  {
   "cell_type": "code",
   "execution_count": null,
   "metadata": {},
   "outputs": [],
   "source": [
    "import sys\n",
    "from pathlib import Path\n",
    "import socket\n",
    "if socket.gethostname() == \"ccalin010.flatironinstitute.org\":\n",
    "    plotFunc_root = \"/mnt/home/mrenzo/codes/python_stuff/plotFunc/\"\n",
    "elif socket.gethostname() == \"t490s\":\n",
    "    plotFunc_root = \"/home/math/Documents/Research/codes/plotFunc/\"\n",
    "else:\n",
    "    print(\"you need plotFunc from https://github.com/mathren/plotFunc\")\n",
    "sys.path.append(plotFunc_root)\n",
    "from MESAreader import *\n",
    "from utilsLib import getFinalProfileLOGS, getTerminationCode\n",
    "from plotDefaults import *\n",
    "import matplotlib.pyplot as plt\n",
    "from lib_plot_bin import plot_HRD, plot_rho_mass, get_radius,\\\n",
    "    plot_mdot_t, plot_omega_mass, \\\n",
    "    get_omega_div_omega_crit, plot_moment_of_inertia, get_Z_from_hfile,\\\n",
    "    get_folder_from_file, get_resolution_from_file, plot_n_modnum, \\\n",
    "    plot_J_m, plot_Jinside_m, plot_J_tot, plot_J_Tc, get_mass_rot_res, \\\n",
    "    plot_surface_rotation_time, plot_omega_div_omega_crit, plot_BE_r, \\\n",
    "    get_three_colormaps, get_age_from_profile, get_BE_from_pfile, plot_BE_r, \\\n",
    "    annotate_radii_hrd, get_ax_from_pfile\n",
    "from lib_simplified_profiles import get_M_boundary, mk_simplified_profile_from_pfile, get_xq, mk_line\n",
    "from tqdm import tqdm    \n",
    "%load_ext autoreload\n",
    "%autoreload 2"
   ]
  },
  {
   "cell_type": "code",
   "execution_count": null,
   "metadata": {
    "autoscroll": false,
    "ein.hycell": false,
    "ein.tags": "worksheet-0",
    "slideshow": {
     "slide_type": "-"
    }
   },
   "outputs": [],
   "source": [
    "set_plot_defaults_from_matplotlibrc(plotFunc_root)"
   ]
  },
  {
   "cell_type": "code",
   "execution_count": null,
   "metadata": {},
   "outputs": [],
   "source": [
    "init_model = \"/mnt/home/mrenzo/ceph/RUNS/accretors/mesa15140/simplified_profiles/20_rot0_to_TAMS/LOGS/TAMS.data\"\n",
    "\n",
    "for offset in [1e-4,1e-3,1e-2,1e-1, 0]:\n",
    "    delta_M_boundary, max_M_boundary, min_M_boundary = get_M_boundary(init_model)\n",
    "    print(\"offset\",offset,  delta_M_boundary, max_M_boundary, min_M_boundary)"
   ]
  },
  {
   "cell_type": "markdown",
   "metadata": {},
   "source": [
    "# Fixed inner boundary"
   ]
  },
  {
   "cell_type": "code",
   "execution_count": null,
   "metadata": {},
   "outputs": [],
   "source": [
    "dm = -1\n",
    "m_out = max_M_boundary+dm\n",
    "mk_simplified_profile_from_pfile(init_model, outfile=None, plot=True, m_in=min_M_boundary, m_out=m_out)"
   ]
  },
  {
   "cell_type": "markdown",
   "metadata": {},
   "source": [
    "# Setup not fixing `min_M_boundary`"
   ]
  },
  {
   "cell_type": "code",
   "execution_count": null,
   "metadata": {},
   "outputs": [],
   "source": [
    "delta_M_boundary, max_M_boundary, min_M_boundary = get_M_boundary(init_model)\n",
    "print(\"input\", delta_M_boundary, max_M_boundary, min_M_boundary)\n",
    "print(\"====================================================\")\n",
    "\n",
    "i = 0\n",
    "for dm in np.linspace(0,4,11):\n",
    "    if dm == 0: continue\n",
    "    m_in = min_M_boundary+dm\n",
    "    m_out = max_M_boundary-dm\n",
    "    if m_in <= m_out:\n",
    "        mk_simplified_profile_from_pfile(init_model, outfile=None, plot=True, m_in=m_in, m_out=m_out)\n",
    "        i+=1\n",
    "    else:\n",
    "        pass\n",
    "    #     break\n",
    "print(i)"
   ]
  },
  {
   "cell_type": "code",
   "execution_count": null,
   "metadata": {},
   "outputs": [],
   "source": [
    "def get_output_name_from_pfile(pfile, string=\"20\", output_root=\"\"):\n",
    "    \"\"\" give a MESA profile determines the filename for the relax files necessary to create fake models\n",
    "    Parameters:\n",
    "    ----------\n",
    "    pfile: `string` profile*.data\n",
    "    string: `optional` to prepend to the file name\n",
    "    output_root: `string` path to prepend to the filename\n",
    "    Returns:\n",
    "    -------\n",
    "    outfile: `string` path (if providing output_root) or filename of the MESA input files\n",
    "    \"\"\" \n",
    "    # print(colored(pfile.split('/')[-1],\"blue\"))\n",
    "    if \"10Rsun.data\" == pfile.split('/')[-1]:\n",
    "        outfile = output_root+\"/\"+string+\"_10Rsun_input\"\n",
    "    elif \"100Rsun.data\" == pfile.split('/')[-1]:\n",
    "        outfile = output_root+\"/\"+string+\"_100Rsun_input\"\n",
    "    elif \"200Rsun.data\" == pfile.split('/')[-1]:\n",
    "        outfile = output_root+\"/\"+string+\"_200Rsun_input\"\n",
    "    elif \"300Rsun.data\" == pfile.split('/')[-1]:\n",
    "        outfile = output_root+\"/\"+string+\"_300Rsun_input\"\n",
    "    elif \"500Rsun.data\" == pfile.split('/')[-1]:\n",
    "        outfile = output_root+\"/\"+string+\"_500Rsun_input\"\n",
    "    elif \"1000Rsun.data\" == pfile.split('/')[-1]:\n",
    "        outfile = output_root+\"/\"+string+\"_1000Rsun_input\"\n",
    "    else:\n",
    "        raise ValueError(\"can't guess radius\")\n",
    "    return outfile\n",
    "\n",
    "# outfile = get_output_name_from_pfile(pfile)"
   ]
  },
  {
   "cell_type": "code",
   "execution_count": null,
   "metadata": {},
   "outputs": [],
   "source": [
    "# for pfile in glob.glob(\"/mnt/home/mrenzo/ceph/RUNS/accretors/mesa15140/binaries/Z_0.0019/m1_20.0000_m2_17.0000_initial_z_0.0019_initial_period_in_days_1.0000e+02_grid_index_0_1/LOGS2/*Rsun.data\"):\n",
    "#     # print(pfile)\n",
    "#     output_root  = \"/mnt/home/mrenzo/ceph/RUNS/accretors/mesa15140/binaries/Z_0.0019/m1_20.0000_m2_17.0000_initial_z_0.0019_initial_period_in_days_1.0000e+02_grid_index_0_1/\"\n",
    "#     output_fname = get_output_name_from_pfile(pfile, output_root=output_root)\n",
    "    # print(output_fname.split('/')[-1])\n",
    "    # mk_simplified_profile_from_pfile(pfile, outfile=output_fname)    "
   ]
  },
  {
   "cell_type": "code",
   "execution_count": null,
   "metadata": {},
   "outputs": [],
   "source": [
    "# test profile\n",
    "fig=plt.figure()\n",
    "gs = gridspec.GridSpec(100, 100)\n",
    "ax = fig.add_subplot(gs[:,:])\n",
    "\n",
    "def plot_model(pfile, ax, **plot_kwargs):\n",
    "    delta_M_boundary,max_M_boundary, min_M_boundary = get_M_boundary(pfile)\n",
    "    src, col = getSrcCol(pfile)\n",
    "    \n",
    "    r = np.log10(src[:, col.index(\"radius\")]*Rsun_cm)\n",
    "    mass = src[:, col.index(\"mass\")]\n",
    "    s = src[:, col.index(\"entropy\")]\n",
    "    ind = (mass <max_M_boundary) & (mass >min_M_boundary)\n",
    "    ax.axvspan(min(r[ind]),max(r[ind]), alpha=0.5, fc=\"#808080\", **plot_kwargs)\n",
    "    ax.plot(r, s, **plot_kwargs)\n",
    "\n",
    "\n",
    "plot_model(pfile, ax, lw=3)\n",
    "plot_model(\"/tmp/simpliified_profile/LOGS/profile2.data\",ax)\n",
    "# plot_BE_r(pfile, ax, alpha_th=1, lw=3, c=\"k\")\n",
    "# plot_BE_r(\"/tmp/simplified_profile/LOGS/profile2.data\", ax, alpha_th=1, lw=3, c=\"r\", ls=\"--\")\n",
    "plot_log_ratio_BE_r(pfile, \"/tmp/simplified_profile/LOGS/profile2.data\", ax)\n"
   ]
  },
  {
   "cell_type": "markdown",
   "metadata": {},
   "source": [
    "# ----------------------------------------------------\n",
    "# Grid of models from TAMS of single 20Msun non-rotating"
   ]
  },
  {
   "cell_type": "code",
   "execution_count": null,
   "metadata": {},
   "outputs": [],
   "source": [
    "init_model = \"/mnt/home/mrenzo/ceph/RUNS/accretors/mesa15140/simplified_profiles/grid/20_rot0_to_TAMS/LOGS/TAMS.data\"\n",
    "\n",
    "fig=plt.figure(figsize=(20,10))\n",
    "gs = gridspec.GridSpec(100, 110)\n",
    "ax1 = fig.add_subplot(gs[:,:50])\n",
    "ax2 = fig.add_subplot(gs[:,60:])\n",
    "# # ax3 = fig.add_subplot(gs[:,80:110])\n",
    "\n",
    "src, col = getSrcCol(init_model)\n",
    "s = src[:, col.index(\"entropy\")]\n",
    "h1 = src[:, col.index(\"h1\")]\n",
    "he4 = src[:, col.index(\"he4\")]\n",
    "m = src[:, col.index(\"mass\")]\n",
    "ax1.plot(m,s)\n",
    "ax2.plot(m, h1)\n",
    "ax2.plot(m, he4, ls='--')\n",
    "\n",
    "ax1.set_xlabel(r\"$\\mathrm{Mass\\ [M_\\odot]}$\")\n",
    "ax2.set_xlabel(r\"$\\mathrm{Mass\\ [M_\\odot]}$\")\n",
    "ax2.set_ylabel(r\"$X_i$\")\n",
    "ax1.set_ylabel(r\"entropy\")\n",
    "\n",
    "# original model transition region\n",
    "delta_M_boundary,max_M_boundary, min_M_boundary = get_M_boundary(init_model)\n",
    "ax1.axvspan(min_M_boundary, max_M_boundary, zorder=0, alpha=0.5)\n",
    "ax2.axvspan(min_M_boundary, max_M_boundary, zorder=0, alpha=0.5)\n",
    "\n",
    "for i in np.linspace(-10,10, 11):\n",
    "    dm = 0.1*i #Msun\n",
    "    M_boundary = (max_M_boundary+dm)-(min_M_boundary-dm)\n",
    "    outfile = \"/mnt/home/mrenzo/Templates/binary_mesa/simplified_profile/entropy_chem_profiles/\"+f\"{M_boundary:.2f}\"+\"_TAMS_profile_input\"\n",
    "    mk_simplfied_profile_from_pfile(init_model, outfile=outfile, plot=False, m_in=min_M_boundary-dm, m_out=max_M_boundary+dm)\n",
    "\n",
    "# make unperturbed one\n",
    "mk_simplfied_profile_from_pfile(init_model, outfile=outfile, plot=False, m_in=min_M_boundary-dm, m_out=max_M_boundary+dm)\n"
   ]
  }
 ],
 "metadata": {
  "kernelspec": {
   "argv": [
    "/mnt/home/mrenzo/anaconda3/envs/py3/bin/python",
    "-m",
    "ipykernel_launcher",
    "-f",
    "{connection_file}"
   ],
   "display_name": "Python 3 (ipykernel)",
   "env": null,
   "interrupt_mode": "signal",
   "language": "python",
   "metadata": {
    "debugger": true
   },
   "name": "python3"
  },
  "name": "make_simplified_chem_profiles.ipynb"
 },
 "nbformat": 4,
 "nbformat_minor": 2
}
